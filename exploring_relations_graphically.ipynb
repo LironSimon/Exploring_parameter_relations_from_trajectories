{
  "nbformat": 4,
  "nbformat_minor": 0,
  "metadata": {
    "colab": {
      "name": "exploring_relations_graphically.ipynb",
      "provenance": [],
      "authorship_tag": "ABX9TyNWHIlISnf9yWwG6mQ7/xyH",
      "include_colab_link": true
    },
    "kernelspec": {
      "name": "python3",
      "display_name": "Python 3"
    },
    "language_info": {
      "name": "python"
    }
  },
  "cells": [
    {
      "cell_type": "markdown",
      "metadata": {
        "id": "view-in-github",
        "colab_type": "text"
      },
      "source": [
        "<a href=\"https://colab.research.google.com/github/LironSimon/Exploring_parameter_relations_from_trajectories/blob/main/exploring_relations_graphically.ipynb\" target=\"_parent\"><img src=\"https://colab.research.google.com/assets/colab-badge.svg\" alt=\"Open In Colab\"/></a>"
      ]
    },
    {
      "cell_type": "markdown",
      "source": [
        "### Import environment and setup"
      ],
      "metadata": {
        "id": "mdvye6JPWQV9"
      }
    },
    {
      "cell_type": "code",
      "execution_count": null,
      "metadata": {
        "id": "3TOhZt04U8Ir"
      },
      "outputs": [],
      "source": [
        "# Import the necessary packages\n",
        "import glob\n",
        "import pandas as pd"
      ]
    },
    {
      "cell_type": "code",
      "source": [
        "# mount to drive\n",
        "from google.colab import drive\n",
        "drive.mount('/content/gdrive')"
      ],
      "metadata": {
        "colab": {
          "base_uri": "https://localhost:8080/"
        },
        "id": "cqTEuzjTWVSd",
        "outputId": "63288f47-e9be-485d-cd27-c83177cf83de"
      },
      "execution_count": null,
      "outputs": [
        {
          "output_type": "stream",
          "name": "stdout",
          "text": [
            "Mounted at /content/gdrive\n"
          ]
        }
      ]
    },
    {
      "cell_type": "code",
      "source": [
        "# set path to microscope images and load photos\n",
        "Path = '/content/gdrive/Shareddrives/Liron_Simon_Thesis/Experimental_data/Trajectories'\n",
        "data = pd.DataFrame()\n",
        "\n",
        "for folder_path in glob.iglob(f'{Path}/*'):\n",
        "    if folder_path.endswith('.csv'): continue\n",
        "    for csv_path in glob.iglob(f'{folder_path}/*'):\n",
        "        \n",
        "        # switch to date, batch id instead\n",
        "        id = csv_path[-17:-4] #date_numvid_slicenum_spherenum\n",
        "        #!!!!!!!!!!!\n",
        "        \n",
        "        df = pd.read_csv(csv_path, index_col=False)\n",
        "        df.insert(loc=0, column='id', value=id)\n",
        "\n",
        "        data = pd.concat([data, df], axis=0, ignore_index=True)\n"
      ],
      "metadata": {
        "id": "fIDV3BRzWWpr"
      },
      "execution_count": null,
      "outputs": []
    },
    {
      "cell_type": "code",
      "source": [
        "data"
      ],
      "metadata": {
        "colab": {
          "base_uri": "https://localhost:8080/",
          "height": 424
        },
        "id": "I_L30Mx2d1kV",
        "outputId": "d7d94bad-ac28-4d44-c117-ce90ae8adcc7"
      },
      "execution_count": null,
      "outputs": [
        {
          "output_type": "execute_result",
          "data": {
            "text/html": [
              "\n",
              "  <div id=\"df-247c6fca-be14-4a49-8a86-6abd487184ba\">\n",
              "    <div class=\"colab-df-container\">\n",
              "      <div>\n",
              "<style scoped>\n",
              "    .dataframe tbody tr th:only-of-type {\n",
              "        vertical-align: middle;\n",
              "    }\n",
              "\n",
              "    .dataframe tbody tr th {\n",
              "        vertical-align: top;\n",
              "    }\n",
              "\n",
              "    .dataframe thead th {\n",
              "        text-align: right;\n",
              "    }\n",
              "</style>\n",
              "<table border=\"1\" class=\"dataframe\">\n",
              "  <thead>\n",
              "    <tr style=\"text-align: right;\">\n",
              "      <th></th>\n",
              "      <th>id</th>\n",
              "      <th>sec</th>\n",
              "      <th>x</th>\n",
              "      <th>y</th>\n",
              "      <th>size</th>\n",
              "      <th>ecc</th>\n",
              "      <th>Vx</th>\n",
              "      <th>Vy</th>\n",
              "      <th>Unnamed: 0</th>\n",
              "    </tr>\n",
              "  </thead>\n",
              "  <tbody>\n",
              "    <tr>\n",
              "      <th>0</th>\n",
              "      <td>0602_0012_1_1</td>\n",
              "      <td>0.060</td>\n",
              "      <td>114.176290</td>\n",
              "      <td>57.808745</td>\n",
              "      <td>4.052445</td>\n",
              "      <td>0.169111</td>\n",
              "      <td>0.001556</td>\n",
              "      <td>0.154791</td>\n",
              "      <td>NaN</td>\n",
              "    </tr>\n",
              "    <tr>\n",
              "      <th>1</th>\n",
              "      <td>0602_0012_1_1</td>\n",
              "      <td>0.064</td>\n",
              "      <td>114.154170</td>\n",
              "      <td>62.790469</td>\n",
              "      <td>4.076256</td>\n",
              "      <td>0.188109</td>\n",
              "      <td>-0.000680</td>\n",
              "      <td>0.153246</td>\n",
              "      <td>NaN</td>\n",
              "    </tr>\n",
              "    <tr>\n",
              "      <th>2</th>\n",
              "      <td>0602_0012_1_1</td>\n",
              "      <td>0.068</td>\n",
              "      <td>114.196296</td>\n",
              "      <td>67.878571</td>\n",
              "      <td>4.270829</td>\n",
              "      <td>0.159943</td>\n",
              "      <td>0.001296</td>\n",
              "      <td>0.156519</td>\n",
              "      <td>NaN</td>\n",
              "    </tr>\n",
              "    <tr>\n",
              "      <th>3</th>\n",
              "      <td>0602_0012_1_1</td>\n",
              "      <td>0.072</td>\n",
              "      <td>114.782118</td>\n",
              "      <td>72.743152</td>\n",
              "      <td>6.343889</td>\n",
              "      <td>0.155092</td>\n",
              "      <td>0.018021</td>\n",
              "      <td>0.149643</td>\n",
              "      <td>NaN</td>\n",
              "    </tr>\n",
              "    <tr>\n",
              "      <th>4</th>\n",
              "      <td>0602_0012_1_1</td>\n",
              "      <td>0.076</td>\n",
              "      <td>114.566640</td>\n",
              "      <td>77.923255</td>\n",
              "      <td>6.075607</td>\n",
              "      <td>0.145635</td>\n",
              "      <td>-0.006628</td>\n",
              "      <td>0.159349</td>\n",
              "      <td>NaN</td>\n",
              "    </tr>\n",
              "    <tr>\n",
              "      <th>...</th>\n",
              "      <td>...</td>\n",
              "      <td>...</td>\n",
              "      <td>...</td>\n",
              "      <td>...</td>\n",
              "      <td>...</td>\n",
              "      <td>...</td>\n",
              "      <td>...</td>\n",
              "      <td>...</td>\n",
              "      <td>...</td>\n",
              "    </tr>\n",
              "    <tr>\n",
              "      <th>5185</th>\n",
              "      <td>0602_0023_1_2</td>\n",
              "      <td>0.956</td>\n",
              "      <td>137.652849</td>\n",
              "      <td>737.947005</td>\n",
              "      <td>4.179600</td>\n",
              "      <td>0.319941</td>\n",
              "      <td>-0.007543</td>\n",
              "      <td>0.137092</td>\n",
              "      <td>NaN</td>\n",
              "    </tr>\n",
              "    <tr>\n",
              "      <th>5186</th>\n",
              "      <td>0602_0023_1_2</td>\n",
              "      <td>0.960</td>\n",
              "      <td>137.809653</td>\n",
              "      <td>742.516144</td>\n",
              "      <td>4.129934</td>\n",
              "      <td>0.272322</td>\n",
              "      <td>0.004824</td>\n",
              "      <td>0.140555</td>\n",
              "      <td>NaN</td>\n",
              "    </tr>\n",
              "    <tr>\n",
              "      <th>5187</th>\n",
              "      <td>0602_0023_1_2</td>\n",
              "      <td>0.964</td>\n",
              "      <td>137.772530</td>\n",
              "      <td>747.063592</td>\n",
              "      <td>4.122940</td>\n",
              "      <td>0.249979</td>\n",
              "      <td>-0.001142</td>\n",
              "      <td>0.139887</td>\n",
              "      <td>NaN</td>\n",
              "    </tr>\n",
              "    <tr>\n",
              "      <th>5188</th>\n",
              "      <td>0602_0023_1_2</td>\n",
              "      <td>0.968</td>\n",
              "      <td>137.916843</td>\n",
              "      <td>751.431546</td>\n",
              "      <td>4.145397</td>\n",
              "      <td>0.272959</td>\n",
              "      <td>0.004439</td>\n",
              "      <td>0.134366</td>\n",
              "      <td>NaN</td>\n",
              "    </tr>\n",
              "    <tr>\n",
              "      <th>5189</th>\n",
              "      <td>0602_0023_1_2</td>\n",
              "      <td>0.972</td>\n",
              "      <td>137.768494</td>\n",
              "      <td>756.031065</td>\n",
              "      <td>4.132486</td>\n",
              "      <td>0.254938</td>\n",
              "      <td>-0.004563</td>\n",
              "      <td>0.141489</td>\n",
              "      <td>NaN</td>\n",
              "    </tr>\n",
              "  </tbody>\n",
              "</table>\n",
              "<p>5190 rows × 9 columns</p>\n",
              "</div>\n",
              "      <button class=\"colab-df-convert\" onclick=\"convertToInteractive('df-247c6fca-be14-4a49-8a86-6abd487184ba')\"\n",
              "              title=\"Convert this dataframe to an interactive table.\"\n",
              "              style=\"display:none;\">\n",
              "        \n",
              "  <svg xmlns=\"http://www.w3.org/2000/svg\" height=\"24px\"viewBox=\"0 0 24 24\"\n",
              "       width=\"24px\">\n",
              "    <path d=\"M0 0h24v24H0V0z\" fill=\"none\"/>\n",
              "    <path d=\"M18.56 5.44l.94 2.06.94-2.06 2.06-.94-2.06-.94-.94-2.06-.94 2.06-2.06.94zm-11 1L8.5 8.5l.94-2.06 2.06-.94-2.06-.94L8.5 2.5l-.94 2.06-2.06.94zm10 10l.94 2.06.94-2.06 2.06-.94-2.06-.94-.94-2.06-.94 2.06-2.06.94z\"/><path d=\"M17.41 7.96l-1.37-1.37c-.4-.4-.92-.59-1.43-.59-.52 0-1.04.2-1.43.59L10.3 9.45l-7.72 7.72c-.78.78-.78 2.05 0 2.83L4 21.41c.39.39.9.59 1.41.59.51 0 1.02-.2 1.41-.59l7.78-7.78 2.81-2.81c.8-.78.8-2.07 0-2.86zM5.41 20L4 18.59l7.72-7.72 1.47 1.35L5.41 20z\"/>\n",
              "  </svg>\n",
              "      </button>\n",
              "      \n",
              "  <style>\n",
              "    .colab-df-container {\n",
              "      display:flex;\n",
              "      flex-wrap:wrap;\n",
              "      gap: 12px;\n",
              "    }\n",
              "\n",
              "    .colab-df-convert {\n",
              "      background-color: #E8F0FE;\n",
              "      border: none;\n",
              "      border-radius: 50%;\n",
              "      cursor: pointer;\n",
              "      display: none;\n",
              "      fill: #1967D2;\n",
              "      height: 32px;\n",
              "      padding: 0 0 0 0;\n",
              "      width: 32px;\n",
              "    }\n",
              "\n",
              "    .colab-df-convert:hover {\n",
              "      background-color: #E2EBFA;\n",
              "      box-shadow: 0px 1px 2px rgba(60, 64, 67, 0.3), 0px 1px 3px 1px rgba(60, 64, 67, 0.15);\n",
              "      fill: #174EA6;\n",
              "    }\n",
              "\n",
              "    [theme=dark] .colab-df-convert {\n",
              "      background-color: #3B4455;\n",
              "      fill: #D2E3FC;\n",
              "    }\n",
              "\n",
              "    [theme=dark] .colab-df-convert:hover {\n",
              "      background-color: #434B5C;\n",
              "      box-shadow: 0px 1px 3px 1px rgba(0, 0, 0, 0.15);\n",
              "      filter: drop-shadow(0px 1px 2px rgba(0, 0, 0, 0.3));\n",
              "      fill: #FFFFFF;\n",
              "    }\n",
              "  </style>\n",
              "\n",
              "      <script>\n",
              "        const buttonEl =\n",
              "          document.querySelector('#df-247c6fca-be14-4a49-8a86-6abd487184ba button.colab-df-convert');\n",
              "        buttonEl.style.display =\n",
              "          google.colab.kernel.accessAllowed ? 'block' : 'none';\n",
              "\n",
              "        async function convertToInteractive(key) {\n",
              "          const element = document.querySelector('#df-247c6fca-be14-4a49-8a86-6abd487184ba');\n",
              "          const dataTable =\n",
              "            await google.colab.kernel.invokeFunction('convertToInteractive',\n",
              "                                                     [key], {});\n",
              "          if (!dataTable) return;\n",
              "\n",
              "          const docLinkHtml = 'Like what you see? Visit the ' +\n",
              "            '<a target=\"_blank\" href=https://colab.research.google.com/notebooks/data_table.ipynb>data table notebook</a>'\n",
              "            + ' to learn more about interactive tables.';\n",
              "          element.innerHTML = '';\n",
              "          dataTable['output_type'] = 'display_data';\n",
              "          await google.colab.output.renderOutput(dataTable, element);\n",
              "          const docLink = document.createElement('div');\n",
              "          docLink.innerHTML = docLinkHtml;\n",
              "          element.appendChild(docLink);\n",
              "        }\n",
              "      </script>\n",
              "    </div>\n",
              "  </div>\n",
              "  "
            ],
            "text/plain": [
              "                 id    sec           x           y      size       ecc  \\\n",
              "0     0602_0012_1_1  0.060  114.176290   57.808745  4.052445  0.169111   \n",
              "1     0602_0012_1_1  0.064  114.154170   62.790469  4.076256  0.188109   \n",
              "2     0602_0012_1_1  0.068  114.196296   67.878571  4.270829  0.159943   \n",
              "3     0602_0012_1_1  0.072  114.782118   72.743152  6.343889  0.155092   \n",
              "4     0602_0012_1_1  0.076  114.566640   77.923255  6.075607  0.145635   \n",
              "...             ...    ...         ...         ...       ...       ...   \n",
              "5185  0602_0023_1_2  0.956  137.652849  737.947005  4.179600  0.319941   \n",
              "5186  0602_0023_1_2  0.960  137.809653  742.516144  4.129934  0.272322   \n",
              "5187  0602_0023_1_2  0.964  137.772530  747.063592  4.122940  0.249979   \n",
              "5188  0602_0023_1_2  0.968  137.916843  751.431546  4.145397  0.272959   \n",
              "5189  0602_0023_1_2  0.972  137.768494  756.031065  4.132486  0.254938   \n",
              "\n",
              "            Vx        Vy  Unnamed: 0  \n",
              "0     0.001556  0.154791         NaN  \n",
              "1    -0.000680  0.153246         NaN  \n",
              "2     0.001296  0.156519         NaN  \n",
              "3     0.018021  0.149643         NaN  \n",
              "4    -0.006628  0.159349         NaN  \n",
              "...        ...       ...         ...  \n",
              "5185 -0.007543  0.137092         NaN  \n",
              "5186  0.004824  0.140555         NaN  \n",
              "5187 -0.001142  0.139887         NaN  \n",
              "5188  0.004439  0.134366         NaN  \n",
              "5189 -0.004563  0.141489         NaN  \n",
              "\n",
              "[5190 rows x 9 columns]"
            ]
          },
          "metadata": {},
          "execution_count": 29
        }
      ]
    },
    {
      "cell_type": "markdown",
      "source": [
        "### Re1 & Fr1 map\n",
        "To see what area of reaserch is covered by me and others"
      ],
      "metadata": {
        "id": "oVJTkkbRgTv0"
      }
    },
    {
      "cell_type": "code",
      "source": [
        "coverage = pd.DataFrame(columns=[''])"
      ],
      "metadata": {
        "id": "4iaWUmIPgd_T"
      },
      "execution_count": null,
      "outputs": []
    },
    {
      "cell_type": "markdown",
      "source": [
        "### Vx/vy as a func of position\n",
        "is there a correlation between vx vibraitions and interface entry/exit"
      ],
      "metadata": {
        "id": "kqmqx2s0fW6O"
      }
    },
    {
      "cell_type": "code",
      "source": [
        ""
      ],
      "metadata": {
        "id": "ucS2UivCfFXl"
      },
      "execution_count": null,
      "outputs": []
    },
    {
      "cell_type": "markdown",
      "source": [
        "### Re1/Fr1 as a func of recovery time\n",
        "see if there is a corelation between Re/Fr and the time it takes for the particle to reach vt2 from the moment it no longer settled with vt1."
      ],
      "metadata": {
        "id": "K-iARj2IgQY0"
      }
    },
    {
      "cell_type": "code",
      "source": [
        ""
      ],
      "metadata": {
        "id": "Fkg9AqnUg6ok"
      },
      "execution_count": null,
      "outputs": []
    },
    {
      "cell_type": "markdown",
      "source": [
        "### Vy_min/Vt1_observed as a func of d/h"
      ],
      "metadata": {
        "id": "Xxx8l3-vg7Uk"
      }
    },
    {
      "cell_type": "code",
      "source": [
        ""
      ],
      "metadata": {
        "id": "eZToQSgNjAwc"
      },
      "execution_count": null,
      "outputs": []
    },
    {
      "cell_type": "markdown",
      "source": [
        "### Vy_min/Vt1_observed as a func of density_ratio"
      ],
      "metadata": {
        "id": "R7J1PvHMjFl-"
      }
    },
    {
      "cell_type": "code",
      "source": [
        ""
      ],
      "metadata": {
        "id": "hxxJjFtfjOwk"
      },
      "execution_count": null,
      "outputs": []
    },
    {
      "cell_type": "markdown",
      "source": [
        "How many particles have a diam outside manufacturer range"
      ],
      "metadata": {
        "id": "IAaZIN0WjPEO"
      }
    }
  ]
}